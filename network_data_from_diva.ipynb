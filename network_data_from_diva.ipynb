{
  "nbformat": 4,
  "nbformat_minor": 0,
  "metadata": {
    "colab": {
      "name": "Untitled0.ipynb",
      "version": "0.3.2",
      "provenance": [],
      "collapsed_sections": [],
      "include_colab_link": true
    },
    "kernelspec": {
      "name": "python3",
      "display_name": "Python 3"
    }
  },
  "cells": [
    {
      "cell_type": "markdown",
      "metadata": {
        "id": "view-in-github",
        "colab_type": "text"
      },
      "source": [
        "<a href=\"https://colab.research.google.com/github/dawads/bibliometri/blob/master/network_data_from_diva.ipynb\" target=\"_parent\"><img src=\"https://colab.research.google.com/assets/colab-badge.svg\" alt=\"Open In Colab\"/></a>"
      ]
    },
    {
      "metadata": {
        "id": "dQbJ54bO8dy1",
        "colab_type": "code",
        "colab": {}
      },
      "cell_type": "code",
      "source": [
        "#Vi använder Pandas och Numpy för beräkning och databearbetning i Python\n",
        "import pandas as pd\n",
        "import numpy as np"
      ],
      "execution_count": 0,
      "outputs": []
    },
    {
      "metadata": {
        "id": "1PRfUYAA1N8r",
        "colab_type": "text"
      },
      "cell_type": "markdown",
      "source": [
        "Import av poster via url-sök i DiVA, csvall2. Länken är radbruten av läsbarhetsskäl"
      ]
    },
    {
      "metadata": {
        "id": "HbaUmaap8xIc",
        "colab_type": "code",
        "colab": {}
      },
      "cell_type": "code",
      "source": [
        "url=(\n",
        "  'http://liu.diva-portal.org/smash/export.jsf?'+\n",
        "  'format=csvall2&addFilename=true&aq=[[]]'+\n",
        "  '&aqe=[]'+\n",
        "  '&aq2=[[{\"organisationId\":\"276\",},{\"publicationTypeCode\":[\"review\",\"article\"]},{\"publicationStatus\":\"published\"},{\"contentTypeCode\":[\"refereed\"]}]]'+\n",
        "  '&onlyFullText=false'+\n",
        "  '&noOfRows=100'+\n",
        "  '&sortOrder=title_sort_asc'+\n",
        "  '&sortOrder2=title_sort_asc'\n",
        ")\n",
        "divaData=pd.read_csv(url)\n"
      ],
      "execution_count": 0,
      "outputs": []
    },
    {
      "metadata": {
        "id": "Rgz4tKlK1Mhz",
        "colab_type": "text"
      },
      "cell_type": "markdown",
      "source": [
        "Ifrån CSV-filen skapar vi en dataframe som har en rad per PID och ämnesord"
      ]
    },
    {
      "metadata": {
        "id": "dJ6IXfYqEyrW",
        "colab_type": "code",
        "outputId": "6453fab2-67d1-4c39-bb92-ea9e08dd718f",
        "colab": {
          "base_uri": "https://localhost:8080/",
          "height": 316
        }
      },
      "cell_type": "code",
      "source": [
        "headers=list(divaData.columns.values)\n",
        "#print(headers)\n",
        "\n",
        "divaDataTwo=divaData[['PID','Categories']]\n",
        "divaDataTwo['Categories']=divaData['Categories'].str.split(';',-1,False)\n",
        "#print(divaDataTwo)\n",
        "\n",
        "subjects=divaDataTwo.set_index(['PID'])['Categories'].apply(pd.Series).stack()\n",
        "\n",
        "subjects=subjects.reset_index()\n",
        "#print(subjects)\n",
        "subjects.columns=['PID','Order','Categories']\n",
        "subjects.head()\n",
        "\n",
        "#test=subjects.unique()\n",
        "#print(allSubjects)\n",
        "#test=allSubjects.unique()"
      ],
      "execution_count": 3,
      "outputs": [
        {
          "output_type": "stream",
          "text": [
            "/usr/local/lib/python3.6/dist-packages/ipykernel_launcher.py:5: SettingWithCopyWarning: \n",
            "A value is trying to be set on a copy of a slice from a DataFrame.\n",
            "Try using .loc[row_indexer,col_indexer] = value instead\n",
            "\n",
            "See the caveats in the documentation: http://pandas.pydata.org/pandas-docs/stable/indexing.html#indexing-view-versus-copy\n",
            "  \"\"\"\n"
          ],
          "name": "stderr"
        },
        {
          "output_type": "execute_result",
          "data": {
            "text/html": [
              "<div>\n",
              "<style scoped>\n",
              "    .dataframe tbody tr th:only-of-type {\n",
              "        vertical-align: middle;\n",
              "    }\n",
              "\n",
              "    .dataframe tbody tr th {\n",
              "        vertical-align: top;\n",
              "    }\n",
              "\n",
              "    .dataframe thead th {\n",
              "        text-align: right;\n",
              "    }\n",
              "</style>\n",
              "<table border=\"1\" class=\"dataframe\">\n",
              "  <thead>\n",
              "    <tr style=\"text-align: right;\">\n",
              "      <th></th>\n",
              "      <th>PID</th>\n",
              "      <th>Order</th>\n",
              "      <th>Categories</th>\n",
              "    </tr>\n",
              "  </thead>\n",
              "  <tbody>\n",
              "    <tr>\n",
              "      <th>0</th>\n",
              "      <td>266537</td>\n",
              "      <td>0</td>\n",
              "      <td>Teknik och teknologier (2)</td>\n",
              "    </tr>\n",
              "    <tr>\n",
              "      <th>1</th>\n",
              "      <td>254914</td>\n",
              "      <td>0</td>\n",
              "      <td>Samhällsvetenskap (5)</td>\n",
              "    </tr>\n",
              "    <tr>\n",
              "      <th>2</th>\n",
              "      <td>23186</td>\n",
              "      <td>0</td>\n",
              "      <td>Annan elektroteknik och elektronik (20299)</td>\n",
              "    </tr>\n",
              "    <tr>\n",
              "      <th>3</th>\n",
              "      <td>242842</td>\n",
              "      <td>0</td>\n",
              "      <td>Teknik och teknologier (2)</td>\n",
              "    </tr>\n",
              "    <tr>\n",
              "      <th>4</th>\n",
              "      <td>578529</td>\n",
              "      <td>0</td>\n",
              "      <td>Annan elektroteknik och elektronik (20299)</td>\n",
              "    </tr>\n",
              "  </tbody>\n",
              "</table>\n",
              "</div>"
            ],
            "text/plain": [
              "      PID  Order                                  Categories\n",
              "0  266537      0                  Teknik och teknologier (2)\n",
              "1  254914      0                       Samhällsvetenskap (5)\n",
              "2   23186      0  Annan elektroteknik och elektronik (20299)\n",
              "3  242842      0                  Teknik och teknologier (2)\n",
              "4  578529      0  Annan elektroteknik och elektronik (20299)"
            ]
          },
          "metadata": {
            "tags": []
          },
          "execution_count": 3
        }
      ]
    },
    {
      "metadata": {
        "id": "bTMtDf0M4lDi",
        "colab_type": "text"
      },
      "cell_type": "markdown",
      "source": [
        "Nu skapar vi en nodes-tabell som kan exporteras till Gephi med radnummer, namn och vikt"
      ]
    },
    {
      "metadata": {
        "id": "53sM2psQ_H0h",
        "colab_type": "code",
        "outputId": "3fbe4279-8de6-4555-c337-65cf49fb8634",
        "colab": {
          "base_uri": "https://localhost:8080/",
          "height": 206
        }
      },
      "cell_type": "code",
      "source": [
        "nodes = subjects.groupby('Categories').agg({'Categories': np.size})\n",
        "nodes['Weight'] = nodes['Categories']\n",
        "nodes['Size'] = nodes['Categories'].apply(np.sqrt)\n",
        "nodes = nodes[['Weight', 'Size']].reset_index()\n",
        "nodes['id'] = nodes.index\n",
        "nodes = nodes[['id','Categories', 'Weight','Size']]\n",
        "nodes.head()\n",
        "#having count > X ?"
      ],
      "execution_count": 4,
      "outputs": [
        {
          "output_type": "execute_result",
          "data": {
            "text/html": [
              "<div>\n",
              "<style scoped>\n",
              "    .dataframe tbody tr th:only-of-type {\n",
              "        vertical-align: middle;\n",
              "    }\n",
              "\n",
              "    .dataframe tbody tr th {\n",
              "        vertical-align: top;\n",
              "    }\n",
              "\n",
              "    .dataframe thead th {\n",
              "        text-align: right;\n",
              "    }\n",
              "</style>\n",
              "<table border=\"1\" class=\"dataframe\">\n",
              "  <thead>\n",
              "    <tr style=\"text-align: right;\">\n",
              "      <th></th>\n",
              "      <th>id</th>\n",
              "      <th>Categories</th>\n",
              "      <th>Weight</th>\n",
              "      <th>Size</th>\n",
              "    </tr>\n",
              "  </thead>\n",
              "  <tbody>\n",
              "    <tr>\n",
              "      <th>0</th>\n",
              "      <td>0</td>\n",
              "      <td>Acceleratorfysik och instrumentering (10306)</td>\n",
              "      <td>2</td>\n",
              "      <td>1.414214</td>\n",
              "    </tr>\n",
              "    <tr>\n",
              "      <th>1</th>\n",
              "      <td>1</td>\n",
              "      <td>Allmänmedicin (30224)</td>\n",
              "      <td>1</td>\n",
              "      <td>1.000000</td>\n",
              "    </tr>\n",
              "    <tr>\n",
              "      <th>2</th>\n",
              "      <td>2</td>\n",
              "      <td>Annan elektroteknik och elektronik (20299)</td>\n",
              "      <td>5</td>\n",
              "      <td>2.236068</td>\n",
              "    </tr>\n",
              "    <tr>\n",
              "      <th>3</th>\n",
              "      <td>3</td>\n",
              "      <td>Annan maskinteknik (20399)</td>\n",
              "      <td>1</td>\n",
              "      <td>1.000000</td>\n",
              "    </tr>\n",
              "    <tr>\n",
              "      <th>4</th>\n",
              "      <td>4</td>\n",
              "      <td>Annan materialteknik (20599)</td>\n",
              "      <td>1</td>\n",
              "      <td>1.000000</td>\n",
              "    </tr>\n",
              "  </tbody>\n",
              "</table>\n",
              "</div>"
            ],
            "text/plain": [
              "   id                                    Categories  Weight      Size\n",
              "0   0  Acceleratorfysik och instrumentering (10306)       2  1.414214\n",
              "1   1                         Allmänmedicin (30224)       1  1.000000\n",
              "2   2    Annan elektroteknik och elektronik (20299)       5  2.236068\n",
              "3   3                    Annan maskinteknik (20399)       1  1.000000\n",
              "4   4                  Annan materialteknik (20599)       1  1.000000"
            ]
          },
          "metadata": {
            "tags": []
          },
          "execution_count": 4
        }
      ]
    },
    {
      "metadata": {
        "id": "QYFjvxiVJGaA",
        "colab_type": "text"
      },
      "cell_type": "markdown",
      "source": [
        "nodes AS ( SELECT row_number() OVER (ORDER BY Categories) AS id, Categories AS label, count() AS p FROM subjects GROUP BY Categories HAVING count() > 0 ),\n",
        "\n",
        "id label p sqrt_p\n",
        "1 Barcelona Hospital Campus Vall d’Hebron, Barcelona 3619 60.1581249707801\n",
        "2;Charité-Universitätsmedizin;14572;120.714539306581\n",
        "3;Erasmus MC University Medical Centre;14888;122.016392341357"
      ]
    },
    {
      "metadata": {
        "id": "f5YU7pyHCBf4",
        "colab_type": "text"
      },
      "cell_type": "markdown",
      "source": [
        "edges AS\n",
        "(\n",
        " SELECT n1.id AS source, n2.id AS target, count(*) AS weight\n",
        " FROM nodes n1\n",
        " INNER JOIN pek p1 ON (p1.org = n1.label)\n",
        " INNER JOIN pek p2 ON (p2.id = p1.id)\n",
        " INNER JOIN nodes n2 ON (n2.label = p2.org AND n2.id > n1.id)\n",
        " GROUP BY n1.id, n2.id\n",
        ")"
      ]
    },
    {
      "metadata": {
        "id": "LCoKMCgO8kHW",
        "colab_type": "code",
        "outputId": "ab9620ad-0ade-4ded-fdd4-ce0a469beb73",
        "colab": {
          "base_uri": "https://localhost:8080/",
          "height": 269
        }
      },
      "cell_type": "code",
      "source": [
        "edges_l = nodes.merge(subjects, how='inner', on='Categories')\n",
        "edges_i = edges_l.merge(subjects, how='inner', on='PID')\n",
        "edges_li = nodes.merge(edges_i, how='inner', left_on=['Categories'], right_on=['Categories_y'] )\n",
        "edges = edges_li[(edges_li['id_y'] > edges_li['id_x'])]\n",
        "edges = edges.groupby(['id_x', 'id_y']).size().reset_index().groupby('id_y')[[0]].max()\n",
        "#df.groupby(['col5','col2']).size().reset_index().groupby('col2')[[0]].max()\n",
        "#edges_l.head(15)\n",
        "#edges_i.head(15)\n",
        "#edges_li.head(15)\n",
        "edges.head(15)\n",
        "\n"
      ],
      "execution_count": 9,
      "outputs": [
        {
          "output_type": "execute_result",
          "data": {
            "text/html": [
              "<div>\n",
              "<style scoped>\n",
              "    .dataframe tbody tr th:only-of-type {\n",
              "        vertical-align: middle;\n",
              "    }\n",
              "\n",
              "    .dataframe tbody tr th {\n",
              "        vertical-align: top;\n",
              "    }\n",
              "\n",
              "    .dataframe thead th {\n",
              "        text-align: right;\n",
              "    }\n",
              "</style>\n",
              "<table border=\"1\" class=\"dataframe\">\n",
              "  <thead>\n",
              "    <tr style=\"text-align: right;\">\n",
              "      <th></th>\n",
              "      <th>0</th>\n",
              "    </tr>\n",
              "    <tr>\n",
              "      <th>id_y</th>\n",
              "      <th></th>\n",
              "    </tr>\n",
              "  </thead>\n",
              "  <tbody>\n",
              "    <tr>\n",
              "      <th>19</th>\n",
              "      <td>1</td>\n",
              "    </tr>\n",
              "    <tr>\n",
              "      <th>20</th>\n",
              "      <td>1</td>\n",
              "    </tr>\n",
              "    <tr>\n",
              "      <th>27</th>\n",
              "      <td>1</td>\n",
              "    </tr>\n",
              "    <tr>\n",
              "      <th>34</th>\n",
              "      <td>1</td>\n",
              "    </tr>\n",
              "    <tr>\n",
              "      <th>37</th>\n",
              "      <td>1</td>\n",
              "    </tr>\n",
              "    <tr>\n",
              "      <th>38</th>\n",
              "      <td>1</td>\n",
              "    </tr>\n",
              "  </tbody>\n",
              "</table>\n",
              "</div>"
            ],
            "text/plain": [
              "      0\n",
              "id_y   \n",
              "19    1\n",
              "20    1\n",
              "27    1\n",
              "34    1\n",
              "37    1\n",
              "38    1"
            ]
          },
          "metadata": {
            "tags": []
          },
          "execution_count": 9
        }
      ]
    },
    {
      "metadata": {
        "id": "dOtqQDr9HXTt",
        "colab_type": "text"
      },
      "cell_type": "markdown",
      "source": [
        "0 \t0 \tAcceleratorfysik och instrumentering (10306) \t3 \t1.732051 \t634428 \t0\n",
        "1 \t0 \tAcceleratorfysik och instrumentering (10306) \t3 \t1.732051 \t634430 \t0\n",
        "2 \t0 \tAcceleratorfysik och instrumentering (10306) \t3 \t1.732051 \t1219969 \t0"
      ]
    },
    {
      "metadata": {
        "id": "CRgboD-u_C4m",
        "colab_type": "code",
        "outputId": "efc3bbbc-850c-49ce-93b7-83b502b5fdbd",
        "colab": {
          "base_uri": "https://localhost:8080/",
          "height": 650
        }
      },
      "cell_type": "code",
      "source": [
        ""
      ],
      "execution_count": 0,
      "outputs": [
        {
          "output_type": "error",
          "ename": "ValueError",
          "evalue": "ignored",
          "traceback": [
            "\u001b[0;31m---------------------------------------------------------------------------\u001b[0m",
            "\u001b[0;31mValueError\u001b[0m                                Traceback (most recent call last)",
            "\u001b[0;32m<ipython-input-41-08cc27a47465>\u001b[0m in \u001b[0;36m<module>\u001b[0;34m()\u001b[0m\n\u001b[1;32m      1\u001b[0m (nodes.assign(row_id=subjects.sort_values(['Categories'], ascending=False)\n\u001b[0;32m----> 2\u001b[0;31m               .rank(method='first', ascending=False))\n\u001b[0m\u001b[1;32m      3\u001b[0m               \u001b[0;31m#.cumcount() + 1)\u001b[0m\u001b[0;34m\u001b[0m\u001b[0;34m\u001b[0m\u001b[0;34m\u001b[0m\u001b[0m\n\u001b[1;32m      4\u001b[0m )\n",
            "\u001b[0;32m/usr/local/lib/python3.6/dist-packages/pandas/core/generic.py\u001b[0m in \u001b[0;36mrank\u001b[0;34m(self, axis, method, numeric_only, na_option, ascending, pct)\u001b[0m\n\u001b[1;32m   5642\u001b[0m         \u001b[0;32mif\u001b[0m \u001b[0mnumeric_only\u001b[0m \u001b[0;32mis\u001b[0m \u001b[0;32mNone\u001b[0m\u001b[0;34m:\u001b[0m\u001b[0;34m\u001b[0m\u001b[0;34m\u001b[0m\u001b[0m\n\u001b[1;32m   5643\u001b[0m             \u001b[0;32mtry\u001b[0m\u001b[0;34m:\u001b[0m\u001b[0;34m\u001b[0m\u001b[0;34m\u001b[0m\u001b[0m\n\u001b[0;32m-> 5644\u001b[0;31m                 \u001b[0;32mreturn\u001b[0m \u001b[0mranker\u001b[0m\u001b[0;34m(\u001b[0m\u001b[0mself\u001b[0m\u001b[0;34m)\u001b[0m\u001b[0;34m\u001b[0m\u001b[0;34m\u001b[0m\u001b[0m\n\u001b[0m\u001b[1;32m   5645\u001b[0m             \u001b[0;32mexcept\u001b[0m \u001b[0mTypeError\u001b[0m\u001b[0;34m:\u001b[0m\u001b[0;34m\u001b[0m\u001b[0;34m\u001b[0m\u001b[0m\n\u001b[1;32m   5646\u001b[0m                 \u001b[0mnumeric_only\u001b[0m \u001b[0;34m=\u001b[0m \u001b[0;32mTrue\u001b[0m\u001b[0;34m\u001b[0m\u001b[0;34m\u001b[0m\u001b[0m\n",
            "\u001b[0;32m/usr/local/lib/python3.6/dist-packages/pandas/core/generic.py\u001b[0m in \u001b[0;36mranker\u001b[0;34m(data)\u001b[0m\n\u001b[1;32m   5634\u001b[0m             ranks = algos.rank(data.values, axis=axis, method=method,\n\u001b[1;32m   5635\u001b[0m                                \u001b[0mascending\u001b[0m\u001b[0;34m=\u001b[0m\u001b[0mascending\u001b[0m\u001b[0;34m,\u001b[0m \u001b[0mna_option\u001b[0m\u001b[0;34m=\u001b[0m\u001b[0mna_option\u001b[0m\u001b[0;34m,\u001b[0m\u001b[0;34m\u001b[0m\u001b[0;34m\u001b[0m\u001b[0m\n\u001b[0;32m-> 5636\u001b[0;31m                                pct=pct)\n\u001b[0m\u001b[1;32m   5637\u001b[0m             \u001b[0mranks\u001b[0m \u001b[0;34m=\u001b[0m \u001b[0mself\u001b[0m\u001b[0;34m.\u001b[0m\u001b[0m_constructor\u001b[0m\u001b[0;34m(\u001b[0m\u001b[0mranks\u001b[0m\u001b[0;34m,\u001b[0m \u001b[0;34m**\u001b[0m\u001b[0mdata\u001b[0m\u001b[0;34m.\u001b[0m\u001b[0m_construct_axes_dict\u001b[0m\u001b[0;34m(\u001b[0m\u001b[0;34m)\u001b[0m\u001b[0;34m)\u001b[0m\u001b[0;34m\u001b[0m\u001b[0;34m\u001b[0m\u001b[0m\n\u001b[1;32m   5638\u001b[0m             \u001b[0;32mreturn\u001b[0m \u001b[0mranks\u001b[0m\u001b[0;34m.\u001b[0m\u001b[0m__finalize__\u001b[0m\u001b[0;34m(\u001b[0m\u001b[0mself\u001b[0m\u001b[0;34m)\u001b[0m\u001b[0;34m\u001b[0m\u001b[0;34m\u001b[0m\u001b[0m\n",
            "\u001b[0;32m/usr/local/lib/python3.6/dist-packages/pandas/core/algorithms.py\u001b[0m in \u001b[0;36mrank\u001b[0;34m(values, axis, method, na_option, ascending, pct)\u001b[0m\n\u001b[1;32m    710\u001b[0m         \u001b[0mf\u001b[0m\u001b[0;34m,\u001b[0m \u001b[0mvalues\u001b[0m \u001b[0;34m=\u001b[0m \u001b[0m_get_data_algo\u001b[0m\u001b[0;34m(\u001b[0m\u001b[0mvalues\u001b[0m\u001b[0;34m,\u001b[0m \u001b[0m_rank2d_functions\u001b[0m\u001b[0;34m)\u001b[0m\u001b[0;34m\u001b[0m\u001b[0;34m\u001b[0m\u001b[0m\n\u001b[1;32m    711\u001b[0m         ranks = f(values, axis=axis, ties_method=method,\n\u001b[0;32m--> 712\u001b[0;31m                   ascending=ascending, na_option=na_option, pct=pct)\n\u001b[0m\u001b[1;32m    713\u001b[0m     \u001b[0;32melse\u001b[0m\u001b[0;34m:\u001b[0m\u001b[0;34m\u001b[0m\u001b[0;34m\u001b[0m\u001b[0m\n\u001b[1;32m    714\u001b[0m         \u001b[0;32mraise\u001b[0m \u001b[0mTypeError\u001b[0m\u001b[0;34m(\u001b[0m\u001b[0;34m\"Array with ndim > 2 are not supported.\"\u001b[0m\u001b[0;34m)\u001b[0m\u001b[0;34m\u001b[0m\u001b[0;34m\u001b[0m\u001b[0m\n",
            "\u001b[0;32mpandas/_libs/algos_rank_helper.pxi\u001b[0m in \u001b[0;36mpandas._libs.algos.rank_2d_object\u001b[0;34m()\u001b[0m\n",
            "\u001b[0;31mValueError\u001b[0m: first not supported for non-numeric data"
          ]
        }
      ]
    },
    {
      "metadata": {
        "id": "6valQunEP82c",
        "colab_type": "code",
        "colab": {}
      },
      "cell_type": "code",
      "source": [
        ""
      ],
      "execution_count": 0,
      "outputs": []
    },
    {
      "metadata": {
        "id": "TJyhS9PsP9N2",
        "colab_type": "code",
        "colab": {}
      },
      "cell_type": "code",
      "source": [
        ""
      ],
      "execution_count": 0,
      "outputs": []
    },
    {
      "metadata": {
        "id": "Y7VLSsFAB_o4",
        "colab_type": "text"
      },
      "cell_type": "markdown",
      "source": [
        ""
      ]
    },
    {
      "metadata": {
        "id": "Hk3zFZKpMJTV",
        "colab_type": "text"
      },
      "cell_type": "markdown",
      "source": [
        "https://pandas.pydata.org/pandas-docs/stable/comparison_with_sql.html"
      ]
    },
    {
      "metadata": {
        "id": "A3N5O2ugMKYP",
        "colab_type": "code",
        "colab": {}
      },
      "cell_type": "code",
      "source": [
        ""
      ],
      "execution_count": 0,
      "outputs": []
    }
  ]
}